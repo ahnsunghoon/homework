{
  "cells": [
    {
      "cell_type": "markdown",
      "metadata": {
        "id": "view-in-github",
        "colab_type": "text"
      },
      "source": [
        "<a href=\"https://colab.research.google.com/github/ahnsunghoon/homework/blob/main/Untitled0.ipynb\" target=\"_parent\"><img src=\"https://colab.research.google.com/assets/colab-badge.svg\" alt=\"Open In Colab\"/></a>"
      ]
    },
    {
      "cell_type": "code",
      "execution_count": 1,
      "metadata": {
        "colab": {
          "base_uri": "https://localhost:8080/"
        },
        "id": "OzdUen1hcX-O",
        "outputId": "847b88aa-1c7e-426f-c888-6cebfff5b139"
      },
      "outputs": [
        {
          "output_type": "stream",
          "name": "stdout",
          "text": [
            "인치 값을 입력하세요: 70\n",
            "70.0 인치는 177.8 센티미터입니다.\n"
          ]
        }
      ],
      "source": [
        "def inch_to_cm(inch):\n",
        "    cm = inch * 2.54  # 1 inch = 2.54 cm\n",
        "    return cm\n",
        "inch_value = float(input(\"인치 값을 입력하세요: \"))\n",
        "cm_value = inch_to_cm(inch_value)\n",
        "print(f\"{inch_value} 인치는 {cm_value} 센티미터입니다.\")"
      ]
    },
    {
      "cell_type": "markdown",
      "metadata": {
        "id": "as-s_uSpowVH"
      },
      "source": []
    },
    {
      "cell_type": "code",
      "source": [
        "def kg_to_pound(kg):\n",
        "  pound = kg * 2.205 # 1kg = 2.205 pound\n",
        "  return pound\n",
        "\n",
        "  kg_value = float(input(\"키로그램 값을 입력하세요:\"))\n",
        "pound_value = kg_to_pound(kg_value)\n",
        "print(f\"{kg_value}kg은 {pound_value}파운드입니다.\")\n"
      ],
      "metadata": {
        "colab": {
          "base_uri": "https://localhost:8080/"
        },
        "id": "4Yd1BKwbnWIp",
        "outputId": "713e8571-23a0-47cf-bf1c-8f2b36270122"
      },
      "execution_count": 9,
      "outputs": [
        {
          "output_type": "stream",
          "name": "stdout",
          "text": [
            "75.0kg은 165.375파운드입니다.\n"
          ]
        }
      ]
    },
    {
      "cell_type": "code",
      "source": [
        "def calculate_circle_properties(radius):\n",
        "  circumference = 2 * math.pi * radius\n",
        "  area = math.pi * (radius ** 2)\n",
        "  return circumference, area\n",
        "\n",
        "radius = float(input(\"원의 반지름을 입력하세요: \"))\n",
        "circumference, area = calculate_circle_properties(radius)\n",
        "print(f\"반지름이 {radius}인 원의 둘레는 {circumference:.2f}이고, 넓이는 {area:.2f}입니다.\")\n",
        "\n",
        "\n"
      ],
      "metadata": {
        "colab": {
          "base_uri": "https://localhost:8080/"
        },
        "id": "8q9qMRX2qLLf",
        "outputId": "d199fdf1-0737-492e-caba-e30d4f446d83"
      },
      "execution_count": 14,
      "outputs": [
        {
          "output_type": "stream",
          "name": "stdout",
          "text": [
            "원의 반지름을 입력하세요: 2\n",
            "반지름이 2.0인 원의 둘레는 12.57이고, 넓이는 12.57입니다.\n"
          ]
        }
      ]
    }
  ],
  "metadata": {
    "colab": {
      "provenance": [],
      "authorship_tag": "ABX9TyNOSVp+XPcGWJAhSg/AF9yz",
      "include_colab_link": true
    },
    "kernelspec": {
      "display_name": "Python 3",
      "name": "python3"
    },
    "language_info": {
      "name": "python"
    }
  },
  "nbformat": 4,
  "nbformat_minor": 0
}